{
  "cells": [
    {
      "cell_type": "markdown",
      "metadata": {},
      "source": [
        "# Criação de um classificador de imagens (ML Zero to Hero, part 4)"
      ]
    },
    {
      "cell_type": "markdown",
      "metadata": {},
      "source": [
        "## Bibliotecas\n"
      ]
    },
    {
      "cell_type": "code",
      "execution_count": 106,
      "metadata": {
        "id": "q3KzJyjv3rnA"
      },
      "outputs": [
        {
          "name": "stdout",
          "output_type": "stream",
          "text": [
            "2.13.1\n"
          ]
        }
      ],
      "source": [
        "import os\n",
        "import zipfile\n",
        "import tensorflow as tf\n",
        "print(tf.__version__)"
      ]
    },
    {
      "cell_type": "markdown",
      "metadata": {},
      "source": [
        "## Descompactação dos arquivos zip - Treino, Teste e Validação"
      ]
    },
    {
      "cell_type": "markdown",
      "metadata": {},
      "source": [
        "Downloading datasets"
      ]
    },
    {
      "cell_type": "code",
      "execution_count": 107,
      "metadata": {},
      "outputs": [],
      "source": [
        "# training dataset\n",
        "local_zip = 'dataset/rps.zip'\n",
        "zip_ref = zipfile.ZipFile(local_zip, 'r')\n",
        "zip_ref.extractall('/dataset/')\n",
        "zip_ref.close()\n",
        "\n",
        "# test dataset\n",
        "local_zip = 'dataset/rps-test-set.zip'\n",
        "zip_ref = zipfile.ZipFile(local_zip, 'r')\n",
        "zip_ref.extractall('/dataset/')\n",
        "zip_ref.close()\n",
        "\n",
        "# validation dataset\n",
        "local_zip = 'dataset/rps-validation.zip'\n",
        "zip_ref = zipfile.ZipFile(local_zip, 'r')\n",
        "zip_ref.extractall('/dataset/')\n",
        "zip_ref.close()"
      ]
    },
    {
      "cell_type": "markdown",
      "metadata": {},
      "source": [
        "### Separando os dataset"
      ]
    },
    {
      "cell_type": "markdown",
      "metadata": {},
      "source": [
        "#### Treino"
      ]
    },
    {
      "cell_type": "code",
      "execution_count": 108,
      "metadata": {},
      "outputs": [
        {
          "name": "stdout",
          "output_type": "stream",
          "text": [
            "Found 2520 images belonging to 3 classes.\n"
          ]
        }
      ],
      "source": [
        "TRAINING_DIR = '/dataset/rps/'\n",
        "\n",
        "training_datagen = tf.keras.preprocessing.image.ImageDataGenerator(\n",
        "  rescale = 1./255\n",
        ")\n",
        "\n",
        "train_generator = training_datagen.flow_from_directory(\n",
        "  TRAINING_DIR,\n",
        "  target_size=(150,150),\n",
        "  class_mode='categorical'\n",
        ")"
      ]
    },
    {
      "cell_type": "markdown",
      "metadata": {},
      "source": [
        "#### Teste"
      ]
    },
    {
      "cell_type": "code",
      "execution_count": 109,
      "metadata": {},
      "outputs": [
        {
          "name": "stdout",
          "output_type": "stream",
          "text": [
            "Found 372 images belonging to 3 classes.\n"
          ]
        }
      ],
      "source": [
        "TEST_DIR = '/dataset/rps-test-set/'\n",
        "\n",
        "test_datagen = tf.keras.preprocessing.image.ImageDataGenerator(\n",
        "  rescale = 1./255\n",
        ")\n",
        "\n",
        "test_generator = training_datagen.flow_from_directory(\n",
        "  TEST_DIR,\n",
        "  target_size=(150,150),\n",
        "  class_mode='categorical'\n",
        ")"
      ]
    },
    {
      "cell_type": "markdown",
      "metadata": {},
      "source": [
        "#### Validação"
      ]
    },
    {
      "cell_type": "code",
      "execution_count": 110,
      "metadata": {},
      "outputs": [
        {
          "name": "stdout",
          "output_type": "stream",
          "text": [
            "Found 2892 images belonging to 2 classes.\n"
          ]
        }
      ],
      "source": [
        "VALIDATION_DIR = '/dataset/'\n",
        "\n",
        "validation_datagen = tf.keras.preprocessing.image.ImageDataGenerator(\n",
        "  rescale = 1./255\n",
        ")\n",
        "\n",
        "validation_generator = training_datagen.flow_from_directory(\n",
        "  VALIDATION_DIR,\n",
        "  target_size=(150,150),\n",
        "  class_mode='categorical'\n",
        ")"
      ]
    },
    {
      "cell_type": "markdown",
      "metadata": {},
      "source": [
        "## Modelo -  Convolutional Neural Network (CNN)"
      ]
    },
    {
      "cell_type": "code",
      "execution_count": 111,
      "metadata": {},
      "outputs": [],
      "source": [
        "model = tf.keras.models.Sequential([\n",
        "  tf.keras.layers.Conv2D(64, (3,3), activation='relu', input_shape=(150,150,3)), # input = size of input (photo)\n",
        "  tf.keras.layers.MaxPooling2D(2,2),\n",
        "  tf.keras.layers.Conv2D(64, (3,3), activation='relu'),\n",
        "  tf.keras.layers.MaxPooling2D(2,2),\n",
        "  tf.keras.layers.Conv2D(128, (3,3), activation='relu'),\n",
        "  tf.keras.layers.MaxPooling2D(2,2),\n",
        "  tf.keras.layers.Conv2D(128, (3,3), activation='relu'), # note that there are 4 convolutionals layers each one with Max Pooling\n",
        "  tf.keras.layers.MaxPooling2D(2,2),\n",
        "  # Flatten the results to feed DNN\n",
        "  tf.keras.layers.Flatten(),\n",
        "  tf.keras.layers.Dropout(0.5),\n",
        "  # 512 neuron hidden layer\n",
        "  tf.keras.layers.Dense(512, activation='relu'),\n",
        "  tf.keras.layers.Dense(3, activation='softmax') # output = 3 neurons (because we have 3 classes - rock,paper,scissors)\n",
        "])"
      ]
    },
    {
      "cell_type": "markdown",
      "metadata": {},
      "source": [
        "#### Compilação e determinação dos paramêtros (Loss, optimizer e metrics)"
      ]
    },
    {
      "cell_type": "code",
      "execution_count": 114,
      "metadata": {},
      "outputs": [],
      "source": [
        "model.compile(loss='categorical_crossentropy',optimizer='rmsprop',metrics=['accuracy'])"
      ]
    },
    {
      "cell_type": "markdown",
      "metadata": {},
      "source": [
        "### Ajustando o modelo"
      ]
    },
    {
      "cell_type": "markdown",
      "metadata": {},
      "source": [
        "Embora o código rode, há um erro na geração do gráfico (***InvalidArgumentError: Graph execution error:***). Este erro acontece devido esta aula (realizada em 2019) esta desatualizado com as novas versões do Tensorflow.\n",
        "\n",
        "Para rodar apropriadamente, eu usei o colab com uma versão do Tensorflow mais antiga, mas optei por não alterar aqui e seguir para os próximos tutorias do Tensorflow."
      ]
    },
    {
      "cell_type": "code",
      "execution_count": null,
      "metadata": {},
      "outputs": [],
      "source": [
        "history = model.fit(train_generator, epochs=25, validation_data=validation_generator, verbose=1)"
      ]
    },
    {
      "cell_type": "markdown",
      "metadata": {},
      "source": [
        "Identidicando as imagens"
      ]
    },
    {
      "cell_type": "code",
      "execution_count": null,
      "metadata": {},
      "outputs": [],
      "source": [
        "classes = model.predict('imagens', batch_size=10)"
      ]
    },
    {
      "cell_type": "markdown",
      "metadata": {},
      "source": [
        "[Para acessar a aula, clique aqui!](https://www.youtube.com/watch?v=u2TjZzNuly8&list=RDCMUC0rqucBdTuFTjJiefW5t-IQ&index=3)"
      ]
    },
    {
      "cell_type": "markdown",
      "metadata": {},
      "source": [
        "----------------------------------------------FIM--------------------------------------"
      ]
    }
  ],
  "metadata": {
    "colab": {
      "name": "Copy of Lab2-Computer-Vision.ipynb",
      "provenance": []
    },
    "kernelspec": {
      "display_name": "Python 3.10.9 ('base')",
      "language": "python",
      "name": "python3"
    },
    "language_info": {
      "codemirror_mode": {
        "name": "ipython",
        "version": 3
      },
      "file_extension": ".py",
      "mimetype": "text/x-python",
      "name": "python",
      "nbconvert_exporter": "python",
      "pygments_lexer": "ipython3",
      "version": "3.10.9"
    },
    "vscode": {
      "interpreter": {
        "hash": "9f7905b30e088604f73f345719b79ddd8931a31898d4871b1b46cc0220bd3bb8"
      }
    }
  },
  "nbformat": 4,
  "nbformat_minor": 0
}
